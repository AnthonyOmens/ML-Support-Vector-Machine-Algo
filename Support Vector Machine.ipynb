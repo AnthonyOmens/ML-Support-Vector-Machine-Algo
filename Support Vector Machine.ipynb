{
 "cells": [
  {
   "cell_type": "code",
   "execution_count": 179,
   "id": "social-savage",
   "metadata": {},
   "outputs": [],
   "source": [
    "import os\n",
    "import numpy as np\n",
    "import cv2\n",
    "import matplotlib.pyplot as plt\n",
    "import pickle\n",
    "import random\n",
    "from sklearn.model_selection import train_test_split\n",
    "from sklearn.svm import SVC"
   ]
  },
  {
   "cell_type": "code",
   "execution_count": 180,
   "id": "lovely-enzyme",
   "metadata": {},
   "outputs": [
    {
     "name": "stdout",
     "output_type": "stream",
     "text": [
      "200\n"
     ]
    }
   ],
   "source": [
    "dir = 'D:\\\\Library\\\\Documents\\\\School\\\\COMP 542\\\\Jupyter Stuff\\\\SVM Algo\\\\images'\n",
    "\n",
    "\n",
    "categories = ['arabic', 'english']\n",
    "\n",
    "\n",
    "data = []\n",
    "\n",
    "\n",
    "for category in categories:\n",
    "    path= os.path.join(dir,category)\n",
    "    label= categories.index(category)\n",
    "    \n",
    "    for img in os.listdir(path):\n",
    "        imgpath = os.path.join(path,img)\n",
    "        pet_img=cv2.imread(imgpath,0)\n",
    "        try:\n",
    "            pet_img=cv2.resize(pet_img,(50,50))\n",
    "            image = np.array(pet_img).flatten()\n",
    "            data.append([image, label])\n",
    "        except Exception as e:\n",
    "            pass\n",
    "\n",
    "\n",
    "print(len(data))\n",
    "#print(len(imgpath)\n",
    "\n",
    "pick_in = open('data1.pickle', 'wb')\n",
    "pickle.dump(data,pick_in)\n",
    "pick_in.close()\n",
    "\n",
    "\n",
    "# cv2.waitKey(0)\n",
    "# cv2.destroyAllWindows()"
   ]
  },
  {
   "cell_type": "code",
   "execution_count": 181,
   "id": "stainless-norway",
   "metadata": {},
   "outputs": [
    {
     "name": "stdout",
     "output_type": "stream",
     "text": [
      "Accuracy:  0.8826530612244898\n",
      "Prediction is:  english\n"
     ]
    },
    {
     "data": {
      "image/png": "[encoded data removed]",
      "text/plain": [
       "<Figure size 432x288 with 1 Axes>"
      ]
     },
     "metadata": {
      "needs_background": "light"
     },
     "output_type": "display_data"
    },
    {
     "name": "stdout",
     "output_type": "stream",
     "text": [
      "Label 0 == Arabic | Label 1 == English\n",
      "Correct Answer: arabic\n"
     ]
    }
   ],
   "source": [
    "pick_in = open('data1.pickle','rb')\n",
    "data = pickle.load(pick_in)\n",
    "pick_in.close()\n",
    "\n",
    "random.shuffle(data)\n",
    "features = []\n",
    "labels = []\n",
    "\n",
    "for feature ,label in data:\n",
    "    features.append(feature)\n",
    "    labels.append(label)\n",
    "\n",
    "xtrain, xtest, ytrain, ytest = train_test_split(features, labels, test_size = 0.98)\n",
    "\n",
    "\n",
    "model = SVC(C=1,kernel='poly',gamma= 'auto')\n",
    "model.fit(xtrain, ytrain)\n",
    "\n",
    "pick = open('model.sav','wb')\n",
    "pickle.dump(model,pick)\n",
    "pick.close()\n",
    "\n",
    "prediction = model.predict(xtest)\n",
    "\n",
    "accuracy = model.score(xtest,ytest)\n",
    "\n",
    "print('Accuracy: ', accuracy)\n",
    "\n",
    "print('Prediction is: ', categories[prediction[0]])\n",
    "\n",
    "mypet=xtest[0].reshape(50,50)\n",
    "plt.imshow(mypet,cmap='gray') # cmap = binary\n",
    "plt.title(label)\n",
    "plt.show()\n",
    "print(\"Label 0 == Arabic | Label 1 == English\")\n",
    "print(\"Correct Answer: \" + str(categories[label]))\n",
    "#print(str(data))"
   ]
  },
  {
   "cell_type": "code",
   "execution_count": null,
   "id": "danish-compression",
   "metadata": {},
   "outputs": [],
   "source": []
  },
  {
   "cell_type": "code",
   "execution_count": 35,
   "id": "impossible-belle",
   "metadata": {},
   "outputs": [],
   "source": []
  }
 ],
 "metadata": {
  "kernelspec": {
   "display_name": "Python 3",
   "language": "python",
   "name": "python3"
  },
  "language_info": {
   "codemirror_mode": {
    "name": "ipython",
    "version": 3
   },
   "file_extension": ".py",
   "mimetype": "text/x-python",
   "name": "python",
   "nbconvert_exporter": "python",
   "pygments_lexer": "ipython3",
   "version": "3.9.1"
  }
 },
 "nbformat": 4,
 "nbformat_minor": 5
}
